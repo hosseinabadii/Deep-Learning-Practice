{
 "cells": [
  {
   "cell_type": "markdown",
   "metadata": {
    "id": "LWd1UlMnhT2s"
   },
   "source": [
    "## Importing the libraries"
   ]
  },
  {
   "cell_type": "code",
   "execution_count": 1,
   "metadata": {
    "executionInfo": {
     "elapsed": 18,
     "status": "ok",
     "timestamp": 1667109117708,
     "user": {
      "displayName": "Hadelin de Ponteves",
      "userId": "15047218817161520419"
     },
     "user_tz": -240
    },
    "id": "YvGPUQaHhXfL"
   },
   "outputs": [],
   "source": [
    "import numpy as np\n",
    "import pandas as pd"
   ]
  },
  {
   "cell_type": "markdown",
   "metadata": {
    "id": "K1VMqkGvhc3-"
   },
   "source": [
    "## Importing the dataset"
   ]
  },
  {
   "cell_type": "code",
   "execution_count": 2,
   "metadata": {
    "executionInfo": {
     "elapsed": 17,
     "status": "ok",
     "timestamp": 1667109117708,
     "user": {
      "displayName": "Hadelin de Ponteves",
      "userId": "15047218817161520419"
     },
     "user_tz": -240
    },
    "id": "M52QDmyzhh9s"
   },
   "outputs": [
    {
     "data": {
      "text/html": [
       "<div>\n",
       "<style scoped>\n",
       "    .dataframe tbody tr th:only-of-type {\n",
       "        vertical-align: middle;\n",
       "    }\n",
       "\n",
       "    .dataframe tbody tr th {\n",
       "        vertical-align: top;\n",
       "    }\n",
       "\n",
       "    .dataframe thead th {\n",
       "        text-align: right;\n",
       "    }\n",
       "</style>\n",
       "<table border=\"1\" class=\"dataframe\">\n",
       "  <thead>\n",
       "    <tr style=\"text-align: right;\">\n",
       "      <th></th>\n",
       "      <th>RowNumber</th>\n",
       "      <th>CustomerId</th>\n",
       "      <th>Surname</th>\n",
       "      <th>CreditScore</th>\n",
       "      <th>Geography</th>\n",
       "      <th>Gender</th>\n",
       "      <th>Age</th>\n",
       "      <th>Tenure</th>\n",
       "      <th>Balance</th>\n",
       "      <th>NumOfProducts</th>\n",
       "      <th>HasCrCard</th>\n",
       "      <th>IsActiveMember</th>\n",
       "      <th>EstimatedSalary</th>\n",
       "      <th>Exited</th>\n",
       "    </tr>\n",
       "  </thead>\n",
       "  <tbody>\n",
       "    <tr>\n",
       "      <th>0</th>\n",
       "      <td>1</td>\n",
       "      <td>15634602</td>\n",
       "      <td>Hargrave</td>\n",
       "      <td>619</td>\n",
       "      <td>France</td>\n",
       "      <td>Female</td>\n",
       "      <td>42</td>\n",
       "      <td>2</td>\n",
       "      <td>0.00</td>\n",
       "      <td>1</td>\n",
       "      <td>1</td>\n",
       "      <td>1</td>\n",
       "      <td>101348.88</td>\n",
       "      <td>1</td>\n",
       "    </tr>\n",
       "    <tr>\n",
       "      <th>1</th>\n",
       "      <td>2</td>\n",
       "      <td>15647311</td>\n",
       "      <td>Hill</td>\n",
       "      <td>608</td>\n",
       "      <td>Spain</td>\n",
       "      <td>Female</td>\n",
       "      <td>41</td>\n",
       "      <td>1</td>\n",
       "      <td>83807.86</td>\n",
       "      <td>1</td>\n",
       "      <td>0</td>\n",
       "      <td>1</td>\n",
       "      <td>112542.58</td>\n",
       "      <td>0</td>\n",
       "    </tr>\n",
       "    <tr>\n",
       "      <th>2</th>\n",
       "      <td>3</td>\n",
       "      <td>15619304</td>\n",
       "      <td>Onio</td>\n",
       "      <td>502</td>\n",
       "      <td>France</td>\n",
       "      <td>Female</td>\n",
       "      <td>42</td>\n",
       "      <td>8</td>\n",
       "      <td>159660.80</td>\n",
       "      <td>3</td>\n",
       "      <td>1</td>\n",
       "      <td>0</td>\n",
       "      <td>113931.57</td>\n",
       "      <td>1</td>\n",
       "    </tr>\n",
       "    <tr>\n",
       "      <th>3</th>\n",
       "      <td>4</td>\n",
       "      <td>15701354</td>\n",
       "      <td>Boni</td>\n",
       "      <td>699</td>\n",
       "      <td>France</td>\n",
       "      <td>Female</td>\n",
       "      <td>39</td>\n",
       "      <td>1</td>\n",
       "      <td>0.00</td>\n",
       "      <td>2</td>\n",
       "      <td>0</td>\n",
       "      <td>0</td>\n",
       "      <td>93826.63</td>\n",
       "      <td>0</td>\n",
       "    </tr>\n",
       "    <tr>\n",
       "      <th>4</th>\n",
       "      <td>5</td>\n",
       "      <td>15737888</td>\n",
       "      <td>Mitchell</td>\n",
       "      <td>850</td>\n",
       "      <td>Spain</td>\n",
       "      <td>Female</td>\n",
       "      <td>43</td>\n",
       "      <td>2</td>\n",
       "      <td>125510.82</td>\n",
       "      <td>1</td>\n",
       "      <td>1</td>\n",
       "      <td>1</td>\n",
       "      <td>79084.10</td>\n",
       "      <td>0</td>\n",
       "    </tr>\n",
       "  </tbody>\n",
       "</table>\n",
       "</div>"
      ],
      "text/plain": [
       "   RowNumber  CustomerId   Surname  CreditScore Geography  Gender  Age  \\\n",
       "0          1    15634602  Hargrave          619    France  Female   42   \n",
       "1          2    15647311      Hill          608     Spain  Female   41   \n",
       "2          3    15619304      Onio          502    France  Female   42   \n",
       "3          4    15701354      Boni          699    France  Female   39   \n",
       "4          5    15737888  Mitchell          850     Spain  Female   43   \n",
       "\n",
       "   Tenure    Balance  NumOfProducts  HasCrCard  IsActiveMember  \\\n",
       "0       2       0.00              1          1               1   \n",
       "1       1   83807.86              1          0               1   \n",
       "2       8  159660.80              3          1               0   \n",
       "3       1       0.00              2          0               0   \n",
       "4       2  125510.82              1          1               1   \n",
       "\n",
       "   EstimatedSalary  Exited  \n",
       "0        101348.88       1  \n",
       "1        112542.58       0  \n",
       "2        113931.57       1  \n",
       "3         93826.63       0  \n",
       "4         79084.10       0  "
      ]
     },
     "execution_count": 2,
     "metadata": {},
     "output_type": "execute_result"
    }
   ],
   "source": [
    "dataset = pd.read_csv('Churn_Modelling.csv')\n",
    "dataset.head()"
   ]
  },
  {
   "cell_type": "code",
   "execution_count": 3,
   "metadata": {},
   "outputs": [
    {
     "name": "stdout",
     "output_type": "stream",
     "text": [
      "(10000, 14) (10000, 10) (10000,)\n"
     ]
    }
   ],
   "source": [
    "X = dataset.iloc[:, 3:-1].values\n",
    "y = dataset.iloc[:, -1].values\n",
    "print(dataset.shape, X.shape, y.shape)"
   ]
  },
  {
   "cell_type": "code",
   "execution_count": 4,
   "metadata": {},
   "outputs": [],
   "source": [
    "from sklearn.preprocessing import LabelEncoder, OneHotEncoder\n",
    "from sklearn.compose import ColumnTransformer\n",
    "label_encoder_X = LabelEncoder()\n",
    "X[:, 2] = label_encoder_X.fit_transform(X[:, 2])\n",
    "\n",
    "ct = ColumnTransformer(\n",
    "    transformers=[(\"Geo\", OneHotEncoder(), [1])],\n",
    "    remainder=\"passthrough\",\n",
    ")\n",
    "X = ct.fit_transform(X)\n",
    "X = X[:, 1:]"
   ]
  },
  {
   "cell_type": "markdown",
   "metadata": {
    "id": "YvxIPVyMhmKp"
   },
   "source": [
    "## Splitting the dataset into the Training set and Test set"
   ]
  },
  {
   "cell_type": "code",
   "execution_count": 5,
   "metadata": {
    "executionInfo": {
     "elapsed": 18,
     "status": "ok",
     "timestamp": 1667109117709,
     "user": {
      "displayName": "Hadelin de Ponteves",
      "userId": "15047218817161520419"
     },
     "user_tz": -240
    },
    "id": "AVzJWAXIhxoC"
   },
   "outputs": [],
   "source": [
    "from sklearn.model_selection import train_test_split\n",
    "X_train, X_test, y_train, y_test = train_test_split(X, y, test_size=0.2, random_state=0)"
   ]
  },
  {
   "cell_type": "code",
   "execution_count": 6,
   "metadata": {
    "colab": {
     "base_uri": "https://localhost:8080/"
    },
    "executionInfo": {
     "elapsed": 17,
     "status": "ok",
     "timestamp": 1667109117709,
     "user": {
      "displayName": "Hadelin de Ponteves",
      "userId": "15047218817161520419"
     },
     "user_tz": -240
    },
    "id": "P3nS3-6r1i2B",
    "outputId": "b7cf7b7b-4b41-456e-97c1-9d3f4574bead"
   },
   "outputs": [
    {
     "name": "stdout",
     "output_type": "stream",
     "text": [
      "[[0.0 1.0 667 ... 1 0 163830.64]\n",
      " [1.0 0.0 427 ... 1 1 57098.0]\n",
      " [0.0 0.0 535 ... 1 0 185630.76]\n",
      " ...\n",
      " [0.0 0.0 738 ... 1 0 181429.87]\n",
      " [0.0 1.0 590 ... 1 1 148750.16]\n",
      " [1.0 0.0 623 ... 1 0 118855.26]]\n"
     ]
    }
   ],
   "source": [
    "print(X_train)"
   ]
  },
  {
   "cell_type": "code",
   "execution_count": 7,
   "metadata": {
    "colab": {
     "base_uri": "https://localhost:8080/"
    },
    "executionInfo": {
     "elapsed": 14,
     "status": "ok",
     "timestamp": 1667109117709,
     "user": {
      "displayName": "Hadelin de Ponteves",
      "userId": "15047218817161520419"
     },
     "user_tz": -240
    },
    "id": "8dpDLojm1mVG",
    "outputId": "7c780bd2-9e7e-4f90-fe9a-da2e1adbc94b"
   },
   "outputs": [
    {
     "name": "stdout",
     "output_type": "stream",
     "text": [
      "[0 0 0 ... 0 0 1]\n"
     ]
    }
   ],
   "source": [
    "print(y_train)"
   ]
  },
  {
   "cell_type": "code",
   "execution_count": 8,
   "metadata": {
    "colab": {
     "base_uri": "https://localhost:8080/"
    },
    "executionInfo": {
     "elapsed": 11,
     "status": "ok",
     "timestamp": 1667109117710,
     "user": {
      "displayName": "Hadelin de Ponteves",
      "userId": "15047218817161520419"
     },
     "user_tz": -240
    },
    "id": "qbb7i0DH1qui",
    "outputId": "314da6d3-c60f-453a-fc86-872b94f44477"
   },
   "outputs": [
    {
     "name": "stdout",
     "output_type": "stream",
     "text": [
      "[[1.0 0.0 597 ... 1 1 192852.67]\n",
      " [0.0 0.0 523 ... 1 0 128702.1]\n",
      " [0.0 1.0 706 ... 1 1 75732.25]\n",
      " ...\n",
      " [0.0 1.0 578 ... 1 0 141533.19]\n",
      " [1.0 0.0 650 ... 1 1 11276.48]\n",
      " [1.0 0.0 573 ... 1 0 192950.6]]\n"
     ]
    }
   ],
   "source": [
    "print(X_test)"
   ]
  },
  {
   "cell_type": "code",
   "execution_count": 9,
   "metadata": {
    "colab": {
     "base_uri": "https://localhost:8080/"
    },
    "executionInfo": {
     "elapsed": 9,
     "status": "ok",
     "timestamp": 1667109117710,
     "user": {
      "displayName": "Hadelin de Ponteves",
      "userId": "15047218817161520419"
     },
     "user_tz": -240
    },
    "id": "kj1hnFAR1s5w",
    "outputId": "f7ddcfd8-9457-4934-ea68-520f94513299"
   },
   "outputs": [
    {
     "name": "stdout",
     "output_type": "stream",
     "text": [
      "[0 1 0 ... 0 0 0]\n"
     ]
    }
   ],
   "source": [
    "print(y_test)"
   ]
  },
  {
   "cell_type": "code",
   "execution_count": 10,
   "metadata": {},
   "outputs": [
    {
     "data": {
      "text/plain": [
       "((2000, 11), (2000,))"
      ]
     },
     "execution_count": 10,
     "metadata": {},
     "output_type": "execute_result"
    }
   ],
   "source": [
    "X_test.shape, y_test.shape"
   ]
  },
  {
   "cell_type": "markdown",
   "metadata": {
    "id": "kW3c7UYih0hT"
   },
   "source": [
    "## Feature Scaling"
   ]
  },
  {
   "cell_type": "code",
   "execution_count": 11,
   "metadata": {
    "executionInfo": {
     "elapsed": 668,
     "status": "ok",
     "timestamp": 1667109118371,
     "user": {
      "displayName": "Hadelin de Ponteves",
      "userId": "15047218817161520419"
     },
     "user_tz": -240
    },
    "id": "9fQlDPKCh8sc"
   },
   "outputs": [],
   "source": [
    "from sklearn.preprocessing import StandardScaler\n",
    "sc = StandardScaler()\n",
    "X_train = sc.fit_transform(X_train)\n",
    "X_test = sc.transform(X_test)"
   ]
  },
  {
   "cell_type": "code",
   "execution_count": 12,
   "metadata": {
    "colab": {
     "base_uri": "https://localhost:8080/"
    },
    "executionInfo": {
     "elapsed": 20,
     "status": "ok",
     "timestamp": 1667109118372,
     "user": {
      "displayName": "Hadelin de Ponteves",
      "userId": "15047218817161520419"
     },
     "user_tz": -240
    },
    "id": "syrnD1Op2BSR",
    "outputId": "8c734691-161d-4096-b5f3-8a1d478d66ee"
   },
   "outputs": [
    {
     "name": "stdout",
     "output_type": "stream",
     "text": [
      "[[-0.5698444   1.74309049  0.16958176 ...  0.64259497 -1.03227043\n",
      "   1.10643166]\n",
      " [ 1.75486502 -0.57369368 -2.30455945 ...  0.64259497  0.9687384\n",
      "  -0.74866447]\n",
      " [-0.5698444  -0.57369368 -1.19119591 ...  0.64259497 -1.03227043\n",
      "   1.48533467]\n",
      " ...\n",
      " [-0.5698444  -0.57369368  0.9015152  ...  0.64259497 -1.03227043\n",
      "   1.41231994]\n",
      " [-0.5698444   1.74309049 -0.62420521 ...  0.64259497  0.9687384\n",
      "   0.84432121]\n",
      " [ 1.75486502 -0.57369368 -0.28401079 ...  0.64259497 -1.03227043\n",
      "   0.32472465]]\n"
     ]
    }
   ],
   "source": [
    "print(X_train)"
   ]
  },
  {
   "cell_type": "code",
   "execution_count": 13,
   "metadata": {
    "colab": {
     "base_uri": "https://localhost:8080/"
    },
    "executionInfo": {
     "elapsed": 18,
     "status": "ok",
     "timestamp": 1667109118372,
     "user": {
      "displayName": "Hadelin de Ponteves",
      "userId": "15047218817161520419"
     },
     "user_tz": -240
    },
    "id": "JUd6iBRp2C3L",
    "outputId": "29baf2c2-94f4-426f-a95f-3feb2effe729"
   },
   "outputs": [
    {
     "name": "stdout",
     "output_type": "stream",
     "text": [
      "[[ 1.75486502 -0.57369368 -0.55204276 ...  0.64259497  0.9687384\n",
      "   1.61085707]\n",
      " [-0.5698444  -0.57369368 -1.31490297 ...  0.64259497 -1.03227043\n",
      "   0.49587037]\n",
      " [-0.5698444   1.74309049  0.57162971 ...  0.64259497  0.9687384\n",
      "  -0.42478674]\n",
      " ...\n",
      " [-0.5698444   1.74309049 -0.74791227 ...  0.64259497 -1.03227043\n",
      "   0.71888467]\n",
      " [ 1.75486502 -0.57369368 -0.00566991 ...  0.64259497  0.9687384\n",
      "  -1.54507805]\n",
      " [ 1.75486502 -0.57369368 -0.79945688 ...  0.64259497 -1.03227043\n",
      "   1.61255917]]\n"
     ]
    }
   ],
   "source": [
    "print(X_test)"
   ]
  },
  {
   "cell_type": "markdown",
   "metadata": {
    "id": "bb6jCOCQiAmP"
   },
   "source": [
    "## Import the keras library and pachages"
   ]
  },
  {
   "cell_type": "code",
   "execution_count": 14,
   "metadata": {
    "colab": {
     "base_uri": "https://localhost:8080/"
    },
    "executionInfo": {
     "elapsed": 12,
     "status": "ok",
     "timestamp": 1667109118372,
     "user": {
      "displayName": "Hadelin de Ponteves",
      "userId": "15047218817161520419"
     },
     "user_tz": -240
    },
    "id": "e0pFVAmciHQs",
    "outputId": "4bfed7d3-8e22-4210-e969-3c878da6c057"
   },
   "outputs": [
    {
     "name": "stderr",
     "output_type": "stream",
     "text": [
      "2023-08-16 11:43:52.516968: I tensorflow/core/platform/cpu_feature_guard.cc:182] This TensorFlow binary is optimized to use available CPU instructions in performance-critical operations.\n",
      "To enable the following instructions: SSE4.1 SSE4.2 AVX AVX2 FMA, in other operations, rebuild TensorFlow with the appropriate compiler flags.\n"
     ]
    }
   ],
   "source": [
    "from tensorflow.keras.models import Sequential\n",
    "from tensorflow.keras.layers import InputLayer, Dense\n",
    "from scikeras.wrappers import KerasClassifier\n",
    "from sklearn.model_selection import cross_val_score"
   ]
  },
  {
   "cell_type": "markdown",
   "metadata": {},
   "source": [
    "## Define a create function for model"
   ]
  },
  {
   "cell_type": "code",
   "execution_count": 15,
   "metadata": {},
   "outputs": [],
   "source": [
    "def create_model():\n",
    "    model = Sequential()\n",
    "    model.add(InputLayer(input_shape=(11, ), name='input_layer'))\n",
    "    model.add(Dense(units=6, activation='relu', name='hidden_layer_1'))\n",
    "    model.add(Dense(units=1, activation='sigmoid', name='output_layer'))\n",
    "    model.compile(optimizer=\"adam\", loss=\"binary_crossentropy\", metrics=[\"accuracy\"])\n",
    "    return model"
   ]
  },
  {
   "cell_type": "markdown",
   "metadata": {},
   "source": [
    "## Using cross validation score"
   ]
  },
  {
   "cell_type": "code",
   "execution_count": 16,
   "metadata": {},
   "outputs": [
    {
     "name": "stderr",
     "output_type": "stream",
     "text": [
      "2023-08-16 11:43:56.410184: I tensorflow/core/platform/cpu_feature_guard.cc:182] This TensorFlow binary is optimized to use available CPU instructions in performance-critical operations.\n",
      "To enable the following instructions: SSE4.1 SSE4.2 AVX AVX2 FMA, in other operations, rebuild TensorFlow with the appropriate compiler flags.\n",
      "2023-08-16 11:43:56.506213: I tensorflow/core/platform/cpu_feature_guard.cc:182] This TensorFlow binary is optimized to use available CPU instructions in performance-critical operations.\n",
      "To enable the following instructions: SSE4.1 SSE4.2 AVX AVX2 FMA, in other operations, rebuild TensorFlow with the appropriate compiler flags.\n",
      "2023-08-16 11:43:56.734645: I tensorflow/core/platform/cpu_feature_guard.cc:182] This TensorFlow binary is optimized to use available CPU instructions in performance-critical operations.\n",
      "To enable the following instructions: SSE4.1 SSE4.2 AVX AVX2 FMA, in other operations, rebuild TensorFlow with the appropriate compiler flags.\n",
      "2023-08-16 11:43:56.740206: I tensorflow/core/platform/cpu_feature_guard.cc:182] This TensorFlow binary is optimized to use available CPU instructions in performance-critical operations.\n",
      "To enable the following instructions: SSE4.1 SSE4.2 AVX AVX2 FMA, in other operations, rebuild TensorFlow with the appropriate compiler flags.\n",
      "2023-08-16 11:44:01.524423: I tensorflow/core/common_runtime/process_util.cc:146] Creating new thread pool with default inter op setting: 4. Tune using inter_op_parallelism_threads for best performance.\n",
      "2023-08-16 11:44:01.525409: I tensorflow/core/common_runtime/process_util.cc:146] Creating new thread pool with default inter op setting: 4. Tune using inter_op_parallelism_threads for best performance.\n",
      "2023-08-16 11:44:01.585015: I tensorflow/core/common_runtime/process_util.cc:146] Creating new thread pool with default inter op setting: 4. Tune using inter_op_parallelism_threads for best performance.\n",
      "2023-08-16 11:44:01.683270: I tensorflow/core/common_runtime/process_util.cc:146] Creating new thread pool with default inter op setting: 4. Tune using inter_op_parallelism_threads for best performance.\n"
     ]
    },
    {
     "name": "stdout",
     "output_type": "stream",
     "text": [
      "Epoch 1/20\n",
      "Epoch 1/20\n",
      "Epoch 1/20\n",
      "Epoch 1/20\n",
      "60/60 [==============================] - 3s 4ms/step - loss: 0.6102 - accuracy: 0.7053\n",
      "60/60 [==============================] - 3s 4ms/step - loss: 0.8596 - accuracy: 0.4532\n",
      "60/60 [==============================] - 3s 4ms/step - loss: 0.6100 - accuracy: 0.7567\n",
      "60/60 [==============================] - 3s 4ms/step - loss: 0.7397 - accuracy: 0.4663\n",
      "Epoch 2/20\n",
      "Epoch 2/20\n",
      "Epoch 2/20\n",
      " 1/60 [..............................] - ETA: 0s - loss: 0.5225 - accuracy: 0.8300Epoch 2/20\n",
      "60/60 [==============================] - 0s 3ms/step - loss: 0.5506 - accuracy: 0.7690\n",
      "Epoch 3/20\n",
      "60/60 [==============================] - 0s 3ms/step - loss: 0.7233 - accuracy: 0.5493\n",
      "Epoch 3/20\n",
      "60/60 [==============================] - 0s 4ms/step - loss: 0.5459 - accuracy: 0.7902\n",
      "Epoch 3/20\n",
      "60/60 [==============================] - 0s 5ms/step - loss: 0.6536 - accuracy: 0.5557\n",
      "Epoch 3/20\n",
      "60/60 [==============================] - 0s 3ms/step - loss: 0.5084 - accuracy: 0.7937\n",
      "Epoch 4/20\n",
      "60/60 [==============================] - 0s 3ms/step - loss: 0.6349 - accuracy: 0.6397\n",
      "Epoch 4/20\n",
      "60/60 [==============================] - 0s 4ms/step - loss: 0.5071 - accuracy: 0.7960\n",
      "Epoch 4/20\n",
      "60/60 [==============================] - 0s 4ms/step - loss: 0.6028 - accuracy: 0.6498\n",
      "Epoch 4/20\n",
      "60/60 [==============================] - 0s 3ms/step - loss: 0.4791 - accuracy: 0.8000\n",
      "Epoch 5/20\n",
      "60/60 [==============================] - 0s 3ms/step - loss: 0.5774 - accuracy: 0.7288\n",
      "Epoch 5/20\n",
      "60/60 [==============================] - 0s 3ms/step - loss: 0.4839 - accuracy: 0.7962\n",
      "Epoch 5/20\n",
      "60/60 [==============================] - 0s 3ms/step - loss: 0.5386 - accuracy: 0.7792\n",
      "Epoch 6/20\n",
      "60/60 [==============================] - 0s 4ms/step - loss: 0.5693 - accuracy: 0.7235\n",
      "Epoch 5/20\n",
      "60/60 [==============================] - 0s 3ms/step - loss: 0.4692 - accuracy: 0.7962\n",
      "Epoch 6/20\n",
      "60/60 [==============================] - 0s 5ms/step - loss: 0.4605 - accuracy: 0.8017\n",
      "Epoch 6/20\n",
      "60/60 [==============================] - 0s 3ms/step - loss: 0.5110 - accuracy: 0.7963\n",
      "Epoch 7/20\n",
      "60/60 [==============================] - 0s 3ms/step - loss: 0.4591 - accuracy: 0.7963\n",
      "Epoch 7/20\n",
      "60/60 [==============================] - 0s 4ms/step - loss: 0.5445 - accuracy: 0.7692\n",
      "26/60 [============>.................] - ETA: 0s - loss: 0.4417 - accuracy: 0.8035Epoch 6/20\n",
      "60/60 [==============================] - 0s 3ms/step - loss: 0.4907 - accuracy: 0.7992\n",
      "Epoch 8/20\n",
      "60/60 [==============================] - 0s 3ms/step - loss: 0.4515 - accuracy: 0.7972\n",
      "Epoch 8/20\n",
      "60/60 [==============================] - 0s 5ms/step - loss: 0.4493 - accuracy: 0.8020\n",
      "Epoch 7/20\n",
      "60/60 [==============================] - 0s 4ms/step - loss: 0.5244 - accuracy: 0.7880\n",
      "Epoch 7/20\n",
      "60/60 [==============================] - 0s 4ms/step - loss: 0.4757 - accuracy: 0.8002\n",
      "Epoch 9/20\n",
      "60/60 [==============================] - 0s 4ms/step - loss: 0.4453 - accuracy: 0.7972\n",
      "26/60 [============>.................] - ETA: 0s - loss: 0.5111 - accuracy: 0.7885Epoch 9/20\n",
      "60/60 [==============================] - 0s 4ms/step - loss: 0.4427 - accuracy: 0.8028\n",
      "Epoch 8/20\n",
      "60/60 [==============================] - 0s 2ms/step - loss: 0.4645 - accuracy: 0.8005\n",
      "Epoch 10/20\n",
      "60/60 [==============================] - 0s 5ms/step - loss: 0.5075 - accuracy: 0.7933\n",
      "Epoch 8/20\n",
      "60/60 [==============================] - 0s 4ms/step - loss: 0.4402 - accuracy: 0.7963\n",
      "Epoch 10/20\n",
      "60/60 [==============================] - 0s 4ms/step - loss: 0.4564 - accuracy: 0.8007\n",
      "Epoch 11/20\n",
      "60/60 [==============================] - 0s 5ms/step - loss: 0.4383 - accuracy: 0.8040\n",
      "Epoch 9/20\n",
      "60/60 [==============================] - 0s 3ms/step - loss: 0.4358 - accuracy: 0.7995\n",
      "Epoch 11/20\n",
      "60/60 [==============================] - 0s 4ms/step - loss: 0.4932 - accuracy: 0.7988\n",
      "Epoch 9/20\n",
      "60/60 [==============================] - 0s 3ms/step - loss: 0.4504 - accuracy: 0.8025\n",
      "Epoch 12/20\n",
      "60/60 [==============================] - 0s 3ms/step - loss: 0.4351 - accuracy: 0.8047\n",
      "Epoch 10/20\n",
      "60/60 [==============================] - 0s 4ms/step - loss: 0.4318 - accuracy: 0.8038\n",
      "Epoch 12/20\n",
      "60/60 [==============================] - 0s 4ms/step - loss: 0.4805 - accuracy: 0.8025\n",
      "Epoch 10/20\n",
      "60/60 [==============================] - 0s 3ms/step - loss: 0.4458 - accuracy: 0.8020\n",
      "Epoch 13/20\n",
      "60/60 [==============================] - 0s 3ms/step - loss: 0.4328 - accuracy: 0.8060\n",
      "Epoch 11/20\n",
      "60/60 [==============================] - 0s 4ms/step - loss: 0.4693 - accuracy: 0.8063\n",
      "Epoch 11/20\n",
      "60/60 [==============================] - 0s 5ms/step - loss: 0.4285 - accuracy: 0.8103\n",
      "Epoch 13/20\n",
      "60/60 [==============================] - 0s 3ms/step - loss: 0.4421 - accuracy: 0.8025\n",
      "Epoch 14/20\n",
      "60/60 [==============================] - 0s 5ms/step - loss: 0.4310 - accuracy: 0.8078\n",
      "Epoch 12/20\n",
      "60/60 [==============================] - 0s 3ms/step - loss: 0.4594 - accuracy: 0.8080\n",
      "Epoch 12/20\n",
      "60/60 [==============================] - 0s 3ms/step - loss: 0.4392 - accuracy: 0.8035\n",
      "Epoch 15/20\n",
      "60/60 [==============================] - 0s 4ms/step - loss: 0.4254 - accuracy: 0.8125\n",
      "Epoch 14/20\n",
      "60/60 [==============================] - 0s 3ms/step - loss: 0.4505 - accuracy: 0.8098\n",
      "Epoch 13/20\n",
      "60/60 [==============================] - 0s 3ms/step - loss: 0.4294 - accuracy: 0.8092\n",
      "Epoch 13/20\n",
      "60/60 [==============================] - 0s 4ms/step - loss: 0.4367 - accuracy: 0.8033\n",
      "38/60 [==================>...........] - ETA: 0s - loss: 0.4413 - accuracy: 0.8103Epoch 16/20\n",
      "60/60 [==============================] - 0s 4ms/step - loss: 0.4229 - accuracy: 0.8132\n",
      "Epoch 15/20\n",
      "60/60 [==============================] - 0s 3ms/step - loss: 0.4425 - accuracy: 0.8130\n",
      "Epoch 14/20\n",
      "60/60 [==============================] - 0s 3ms/step - loss: 0.4282 - accuracy: 0.8097\n",
      "Epoch 14/20\n",
      "60/60 [==============================] - 0s 3ms/step - loss: 0.4346 - accuracy: 0.8038\n",
      "Epoch 17/20\n",
      "60/60 [==============================] - 0s 3ms/step - loss: 0.4200 - accuracy: 0.8177\n",
      "Epoch 16/20\n",
      "60/60 [==============================] - 0s 3ms/step - loss: 0.4270 - accuracy: 0.8117\n",
      "Epoch 15/20\n",
      "60/60 [==============================] - 0s 4ms/step - loss: 0.4353 - accuracy: 0.8142\n",
      "Epoch 15/20\n",
      "60/60 [==============================] - 0s 3ms/step - loss: 0.4328 - accuracy: 0.8040\n",
      "60/60 [==============================] - 0s 3ms/step - loss: 0.4176 - accuracy: 0.8195\n",
      "Epoch 18/20\n",
      "Epoch 17/20\n",
      "60/60 [==============================] - 0s 3ms/step - loss: 0.4259 - accuracy: 0.8113\n",
      "Epoch 16/20\n",
      "60/60 [==============================] - 0s 4ms/step - loss: 0.4291 - accuracy: 0.8152\n",
      "Epoch 16/20\n",
      "60/60 [==============================] - 0s 3ms/step - loss: 0.4150 - accuracy: 0.8217\n",
      "Epoch 18/20\n",
      "60/60 [==============================] - 0s 3ms/step - loss: 0.4312 - accuracy: 0.8052\n",
      "Epoch 19/20\n",
      "60/60 [==============================] - 0s 3ms/step - loss: 0.4249 - accuracy: 0.8120\n",
      "Epoch 17/20\n",
      "60/60 [==============================] - 0s 3ms/step - loss: 0.4125 - accuracy: 0.8227\n",
      "Epoch 19/20\n",
      "60/60 [==============================] - 0s 4ms/step - loss: 0.4295 - accuracy: 0.8072\n",
      "Epoch 20/20\n",
      "60/60 [==============================] - 0s 4ms/step - loss: 0.4236 - accuracy: 0.8193\n",
      "Epoch 17/20\n",
      "60/60 [==============================] - 0s 4ms/step - loss: 0.4238 - accuracy: 0.8127\n",
      "Epoch 18/20\n",
      "60/60 [==============================] - 0s 3ms/step - loss: 0.4097 - accuracy: 0.8237\n",
      "Epoch 20/20\n",
      "60/60 [==============================] - 0s 3ms/step - loss: 0.4185 - accuracy: 0.8222\n",
      "Epoch 18/20\n",
      "60/60 [==============================] - 0s 3ms/step - loss: 0.4229 - accuracy: 0.8133\n",
      "Epoch 19/20\n",
      "60/60 [==============================] - 0s 4ms/step - loss: 0.4280 - accuracy: 0.8093\n",
      "60/60 [==============================] - 0s 3ms/step - loss: 0.4070 - accuracy: 0.8245\n",
      "60/60 [==============================] - 0s 3ms/step - loss: 0.4220 - accuracy: 0.8145\n",
      "Epoch 20/20\n",
      "60/60 [==============================] - 0s 4ms/step - loss: 0.4137 - accuracy: 0.8243\n",
      "Epoch 19/20\n",
      "20/20 [==============================] - 0s 2ms/steposs: 0.3977 - accuracy: 0.8200\n",
      "60/60 [==============================] - 0s 3ms/step - loss: 0.4213 - accuracy: 0.8153\n",
      "20/20 [==============================] - 0s 2ms/steposs: 0.4062 - accuracy: 0.82\n",
      "60/60 [==============================] - 0s 3ms/step - loss: 0.4093 - accuracy: 0.8275\n",
      "Epoch 20/20\n",
      "60/60 [==============================] - 0s 2ms/step - loss: 0.4052 - accuracy: 0.8295\n",
      "20/20 [==============================] - 0s 2ms/step\n",
      "20/20 [==============================] - 0s 2ms/step\n",
      "model accuracy with mean:0.817 and std: 0.002\n"
     ]
    }
   ],
   "source": [
    "classifier = KerasClassifier(model=create_model, batch_size=100, epochs=20)\n",
    "accuracies = cross_val_score(\n",
    "    estimator=classifier,\n",
    "    X=X_train,\n",
    "    y=y_train,\n",
    "    cv=4,\n",
    "    n_jobs=-1,\n",
    ")\n",
    "\n",
    "mean = np.array(accuracies).mean()\n",
    "std = np.array(accuracies).std()\n",
    "print(f\"model accuracy with mean:{mean:.3f} and std: {std:.3f}\")"
   ]
  }
 ],
 "metadata": {
  "colab": {
   "authorship_tag": "ABX9TyNieZI1QDG4Rz2KvOSRGYud",
   "collapsed_sections": [],
   "machine_shape": "hm",
   "provenance": []
  },
  "kernelspec": {
   "display_name": "Python 3 (ipykernel)",
   "language": "python",
   "name": "python3"
  },
  "language_info": {
   "codemirror_mode": {
    "name": "ipython",
    "version": 3
   },
   "file_extension": ".py",
   "mimetype": "text/x-python",
   "name": "python",
   "nbconvert_exporter": "python",
   "pygments_lexer": "ipython3",
   "version": "3.10.12"
  }
 },
 "nbformat": 4,
 "nbformat_minor": 4
}

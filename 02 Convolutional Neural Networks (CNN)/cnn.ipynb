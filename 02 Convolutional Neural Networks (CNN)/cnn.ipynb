{
 "cells": [
  {
   "attachments": {},
   "cell_type": "markdown",
   "metadata": {},
   "source": [
    "## Import packages and modules"
   ]
  },
  {
   "cell_type": "code",
   "execution_count": null,
   "metadata": {},
   "outputs": [],
   "source": [
    "import numpy as np\n",
    "import tensorflow as tf\n",
    "from keras.models import Sequential\n",
    "from keras.layers import Conv2D, MaxPooling2D, Flatten, Dense\n",
    "from keras.preprocessing.image import ImageDataGenerator"
   ]
  },
  {
   "cell_type": "markdown",
   "metadata": {
    "id": "fogBwSliylvJ"
   },
   "source": [
    "## Create the CNN model"
   ]
  },
  {
   "cell_type": "code",
   "execution_count": null,
   "metadata": {
    "executionInfo": {
     "elapsed": 383,
     "status": "ok",
     "timestamp": 1692197169981,
     "user": {
      "displayName": "Khosro Hosseinabadi",
      "userId": "00283105262204143804"
     },
     "user_tz": -210
    },
    "id": "PO0tqsaZylvM"
   },
   "outputs": [],
   "source": [
    "# Initialising CNN\n",
    "model = Sequential(name=\"CNN\")\n",
    "\n",
    "# Convolution\n",
    "model.add(Conv2D(\n",
    "    filters=32,\n",
    "    kernel_size=(3, 3),\n",
    "    input_shape=(64, 64, 3),\n",
    "    activation=\"relu\",\n",
    "))\n",
    "\n",
    "# Pooling\n",
    "model.add(MaxPooling2D(pool_size=(2, 2)))\n",
    "\n",
    "# Flattening\n",
    "model.add(Flatten())\n",
    "\n",
    "# Full connection\n",
    "model.add(Dense(units=128, activation=\"relu\"))\n",
    "model.add(Dense(units=1, activation=\"sigmoid\"))"
   ]
  },
  {
   "cell_type": "markdown",
   "metadata": {
    "id": "N4Y0mR6CylvR"
   },
   "source": [
    "## Compiling the CNN"
   ]
  },
  {
   "cell_type": "code",
   "execution_count": 4,
   "metadata": {
    "executionInfo": {
     "elapsed": 685,
     "status": "ok",
     "timestamp": 1692197184455,
     "user": {
      "displayName": "Khosro Hosseinabadi",
      "userId": "00283105262204143804"
     },
     "user_tz": -210
    },
    "id": "f2G9wNnmylvS"
   },
   "outputs": [],
   "source": [
    "model.compile(\n",
    "    optimizer=\"adam\",\n",
    "    loss='binary_crossentropy',\n",
    "    metrics=['accuracy'],\n",
    ")"
   ]
  },
  {
   "cell_type": "markdown",
   "metadata": {},
   "source": [
    "## Image preprocessing"
   ]
  },
  {
   "cell_type": "code",
   "execution_count": null,
   "metadata": {},
   "outputs": [],
   "source": [
    "train_datagen = ImageDataGenerator(\n",
    "    rescale=1./255,\n",
    "    shear_range=0.2,\n",
    "    zoom_range=0.2,\n",
    "    horizontal_flip=True,\n",
    ")\n",
    "test_datagen = ImageDataGenerator(\n",
    "    rescale = 1./255,\n",
    ")\n",
    "training_set = train_datagen.flow_from_directory(\n",
    "    \"dataset/training_set\",\n",
    "    target_size=(64, 64),\n",
    "    batch_size=32,\n",
    "    class_mode=\"binary\",\n",
    ")\n",
    "test_set = test_datagen.flow_from_directory(\n",
    "    \"dataset/test_set\",\n",
    "    target_size=(64, 64),\n",
    "    batch_size=32,\n",
    "    class_mode=\"binary\",\n",
    ")"
   ]
  },
  {
   "cell_type": "markdown",
   "metadata": {
    "id": "YzxKygJpylvT"
   },
   "source": [
    "## Fitting the CNN to the images"
   ]
  },
  {
   "cell_type": "code",
   "execution_count": null,
   "metadata": {
    "colab": {
     "base_uri": "https://localhost:8080/"
    },
    "executionInfo": {
     "elapsed": 78315,
     "status": "ok",
     "timestamp": 1692197931929,
     "user": {
      "displayName": "Khosro Hosseinabadi",
      "userId": "00283105262204143804"
     },
     "user_tz": -210
    },
    "id": "nj9FgSZoylvU",
    "outputId": "8e49ed21-2927-4a13-d348-f1525cf5f050"
   },
   "outputs": [],
   "source": [
    "model.fit(\n",
    "    training_set,\n",
    "    steps_per_epoch=len(training_set),\n",
    "    validation_data=test_set,\n",
    "    validation_steps=len(test_set),\n",
    "    epochs=25,\n",
    ")\n",
    "model.save(\"cnn_trained_model.h5\")"
   ]
  },
  {
   "attachments": {},
   "cell_type": "markdown",
   "metadata": {},
   "source": [
    "## Predict a single image"
   ]
  },
  {
   "cell_type": "code",
   "execution_count": null,
   "metadata": {},
   "outputs": [],
   "source": [
    "image_path = \"dataset/single_prediction/cat_or_dog_1.jpg\"\n",
    "image = tf.keras.utils.load_img(image_path, target_size = (64, 64))\n",
    "input_arr = tf.keras.utils.img_to_array(image)\n",
    "input_arr = np.array([input_arr])  # Convert single image to a batch.\n",
    "predictions = model.predict(input_arr)\n",
    "\n",
    "for label, value in training_set.class_indices.items():\n",
    "    if int(predictions[0, 0]) == value:\n",
    "        print(f\"Image is in the {label!r} category.\")"
   ]
  }
 ],
 "metadata": {
  "colab": {
   "provenance": []
  },
  "kernelspec": {
   "display_name": "Python 3 (ipykernel)",
   "language": "python",
   "name": "python3"
  },
  "language_info": {
   "codemirror_mode": {
    "name": "ipython",
    "version": 3
   },
   "file_extension": ".py",
   "mimetype": "text/x-python",
   "name": "python",
   "nbconvert_exporter": "python",
   "pygments_lexer": "ipython3",
   "version": "3.10.12"
  }
 },
 "nbformat": 4,
 "nbformat_minor": 4
}
